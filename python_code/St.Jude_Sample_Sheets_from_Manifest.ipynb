{
 "cells": [
  {
   "cell_type": "code",
   "execution_count": 1,
   "metadata": {},
   "outputs": [],
   "source": [
    "import os\n",
    "import pathlib\n",
    "import socket\n",
    "import numpy as np\n",
    "import pandas as pd\n",
    "\n",
    "from IPython.core.interactiveshell import InteractiveShell\n",
    "InteractiveShell.ast_node_interactivity = \"all\""
   ]
  },
  {
   "cell_type": "code",
   "execution_count": 2,
   "metadata": {},
   "outputs": [],
   "source": [
    "# ?re.findall"
   ]
  },
  {
   "cell_type": "code",
   "execution_count": 3,
   "metadata": {},
   "outputs": [
    {
     "data": {
      "text/plain": [
       "PosixPath('/Users/work/fast_drive/workingDir/TARGET/AML_TARGET')"
      ]
     },
     "execution_count": 3,
     "metadata": {},
     "output_type": "execute_result"
    }
   ],
   "source": [
    "# https://realpython.com/python-pathlib/\n",
    "host = socket.gethostname()\n",
    "\n",
    "if re.search(\"MacBook\", host):\n",
    "    TARGET=\"/Users/work/fast_drive/workingDir/TARGET/AML_TARGET/\"\n",
    "\n",
    "elif re.search(\"gizmo|rhino\", host):\n",
    "    TARGET=\"/fh/fast/meshinchi_s/workingDir/TARGET/AML_TARGET/\"\n",
    "\n",
    "TARGET=pathlib.Path(TARGET)\n",
    "TARGET"
   ]
  },
  {
   "cell_type": "code",
   "execution_count": 4,
   "metadata": {},
   "outputs": [
    {
     "data": {
      "text/plain": [
       "PosixPath('/Users/work/home_drive/scripts/STAR-fusion-NF/sample_sheets')"
      ]
     },
     "execution_count": 4,
     "metadata": {},
     "output_type": "execute_result"
    }
   ],
   "source": [
    "pathlib.Path().cwd()"
   ]
  },
  {
   "cell_type": "markdown",
   "metadata": {},
   "source": [
    "# 1. Read in the Manifest file"
   ]
  },
  {
   "cell_type": "code",
   "execution_count": 5,
   "metadata": {},
   "outputs": [
    {
     "data": {
      "text/html": [
       "<div>\n",
       "<style scoped>\n",
       "    .dataframe tbody tr th:only-of-type {\n",
       "        vertical-align: middle;\n",
       "    }\n",
       "\n",
       "    .dataframe tbody tr th {\n",
       "        vertical-align: top;\n",
       "    }\n",
       "\n",
       "    .dataframe thead th {\n",
       "        text-align: right;\n",
       "    }\n",
       "</style>\n",
       "<table border=\"1\" class=\"dataframe\">\n",
       "  <thead>\n",
       "    <tr style=\"text-align: right;\">\n",
       "      <th></th>\n",
       "      <th>Unnamed: 0</th>\n",
       "      <th>Sample</th>\n",
       "      <th>Final_Patient_ID</th>\n",
       "      <th>PATIENT_ID_Original</th>\n",
       "      <th>USI</th>\n",
       "      <th>Reg.</th>\n",
       "      <th>Protocol</th>\n",
       "      <th>AML_Subtype</th>\n",
       "      <th>Group</th>\n",
       "      <th>Batch</th>\n",
       "      <th>Library</th>\n",
       "      <th>Time_point</th>\n",
       "      <th>Tissue</th>\n",
       "      <th>Protocol2</th>\n",
       "      <th>Primary.Fusion.CNV</th>\n",
       "      <th>Additional.Fusions.CNV</th>\n",
       "    </tr>\n",
       "  </thead>\n",
       "  <tbody>\n",
       "    <tr>\n",
       "      <th>0</th>\n",
       "      <td>1</td>\n",
       "      <td>Kasumi.AZA.D11.03A.01R</td>\n",
       "      <td>Kasumi-AZA-D11-03A-01R</td>\n",
       "      <td>Kasumi-AZA-D11-03A-01R</td>\n",
       "      <td>Kasumi</td>\n",
       "      <td>NaN</td>\n",
       "      <td>CellLine</td>\n",
       "      <td>CellLine</td>\n",
       "      <td>CellLine</td>\n",
       "      <td>dx1</td>\n",
       "      <td>A75511</td>\n",
       "      <td>CellLine</td>\n",
       "      <td>CellLine</td>\n",
       "      <td>NaN</td>\n",
       "      <td>NaN</td>\n",
       "      <td>NaN</td>\n",
       "    </tr>\n",
       "    <tr>\n",
       "      <th>1</th>\n",
       "      <td>2</td>\n",
       "      <td>Kasumi.AZA.D5.03A.01R</td>\n",
       "      <td>Kasumi-AZA-D5-03A-01R</td>\n",
       "      <td>Kasumi-AZA-D5-03A-01R</td>\n",
       "      <td>Kasumi</td>\n",
       "      <td>NaN</td>\n",
       "      <td>CellLine</td>\n",
       "      <td>CellLine</td>\n",
       "      <td>CellLine</td>\n",
       "      <td>dx1</td>\n",
       "      <td>A75509</td>\n",
       "      <td>CellLine</td>\n",
       "      <td>CellLine</td>\n",
       "      <td>NaN</td>\n",
       "      <td>NaN</td>\n",
       "      <td>NaN</td>\n",
       "    </tr>\n",
       "    <tr>\n",
       "      <th>2</th>\n",
       "      <td>3</td>\n",
       "      <td>Kasumi.D1.03A.01R</td>\n",
       "      <td>Kasumi-D1-03A-01R</td>\n",
       "      <td>Kasumi-D1-03A-01R</td>\n",
       "      <td>Kasumi</td>\n",
       "      <td>NaN</td>\n",
       "      <td>CellLine</td>\n",
       "      <td>CellLine</td>\n",
       "      <td>CellLine</td>\n",
       "      <td>dx1</td>\n",
       "      <td>A75507</td>\n",
       "      <td>CellLine</td>\n",
       "      <td>CellLine</td>\n",
       "      <td>NaN</td>\n",
       "      <td>NaN</td>\n",
       "      <td>NaN</td>\n",
       "    </tr>\n",
       "    <tr>\n",
       "      <th>3</th>\n",
       "      <td>4</td>\n",
       "      <td>MV4.11.AZA.D11.03A.01R</td>\n",
       "      <td>MV4-11-AZA-D11-03A-01R</td>\n",
       "      <td>MV4-11-AZA-D11-03A-01R</td>\n",
       "      <td>MV4</td>\n",
       "      <td>NaN</td>\n",
       "      <td>CellLine</td>\n",
       "      <td>CellLine</td>\n",
       "      <td>CellLine</td>\n",
       "      <td>dx1</td>\n",
       "      <td>A75512</td>\n",
       "      <td>CellLine</td>\n",
       "      <td>CellLine</td>\n",
       "      <td>NaN</td>\n",
       "      <td>NaN</td>\n",
       "      <td>NaN</td>\n",
       "    </tr>\n",
       "    <tr>\n",
       "      <th>4</th>\n",
       "      <td>5</td>\n",
       "      <td>MV4.11.AZA.D5.03A.01R</td>\n",
       "      <td>MV4-11-AZA-D5-03A-01R</td>\n",
       "      <td>MV4-11-AZA-D5-03A-01R</td>\n",
       "      <td>MV4</td>\n",
       "      <td>NaN</td>\n",
       "      <td>CellLine</td>\n",
       "      <td>CellLine</td>\n",
       "      <td>CellLine</td>\n",
       "      <td>dx1</td>\n",
       "      <td>A75510</td>\n",
       "      <td>CellLine</td>\n",
       "      <td>CellLine</td>\n",
       "      <td>NaN</td>\n",
       "      <td>NaN</td>\n",
       "      <td>NaN</td>\n",
       "    </tr>\n",
       "  </tbody>\n",
       "</table>\n",
       "</div>"
      ],
      "text/plain": [
       "   Unnamed: 0                  Sample        Final_Patient_ID  \\\n",
       "0           1  Kasumi.AZA.D11.03A.01R  Kasumi-AZA-D11-03A-01R   \n",
       "1           2   Kasumi.AZA.D5.03A.01R   Kasumi-AZA-D5-03A-01R   \n",
       "2           3       Kasumi.D1.03A.01R       Kasumi-D1-03A-01R   \n",
       "3           4  MV4.11.AZA.D11.03A.01R  MV4-11-AZA-D11-03A-01R   \n",
       "4           5   MV4.11.AZA.D5.03A.01R   MV4-11-AZA-D5-03A-01R   \n",
       "\n",
       "      PATIENT_ID_Original     USI  Reg.  Protocol AML_Subtype     Group Batch  \\\n",
       "0  Kasumi-AZA-D11-03A-01R  Kasumi   NaN  CellLine    CellLine  CellLine   dx1   \n",
       "1   Kasumi-AZA-D5-03A-01R  Kasumi   NaN  CellLine    CellLine  CellLine   dx1   \n",
       "2       Kasumi-D1-03A-01R  Kasumi   NaN  CellLine    CellLine  CellLine   dx1   \n",
       "3  MV4-11-AZA-D11-03A-01R     MV4   NaN  CellLine    CellLine  CellLine   dx1   \n",
       "4   MV4-11-AZA-D5-03A-01R     MV4   NaN  CellLine    CellLine  CellLine   dx1   \n",
       "\n",
       "  Library Time_point    Tissue Protocol2 Primary.Fusion.CNV  \\\n",
       "0  A75511   CellLine  CellLine       NaN                NaN   \n",
       "1  A75509   CellLine  CellLine       NaN                NaN   \n",
       "2  A75507   CellLine  CellLine       NaN                NaN   \n",
       "3  A75512   CellLine  CellLine       NaN                NaN   \n",
       "4  A75510   CellLine  CellLine       NaN                NaN   \n",
       "\n",
       "  Additional.Fusions.CNV  \n",
       "0                    NaN  \n",
       "1                    NaN  \n",
       "2                    NaN  \n",
       "3                    NaN  \n",
       "4                    NaN  "
      ]
     },
     "execution_count": 5,
     "metadata": {},
     "output_type": "execute_result"
    },
    {
     "data": {
      "text/plain": [
       "(2346, 16)"
      ]
     },
     "execution_count": 5,
     "metadata": {},
     "output_type": "execute_result"
    }
   ],
   "source": [
    "# [{print(f)}for file in TARGET.joinpath(\"SequencingDataMatrix/\").iterdir()]\n",
    "\n",
    "manifest_file = TARGET.joinpath(\"SequencingDataMatrix/TARGET_AML_Ribodepleted_Master_Manifest_8.5.20.csv\")\n",
    "\n",
    "\n",
    "manifest = pd.read_csv(manifest_file, \n",
    "                       engine='python')\n",
    "\n",
    "manifest.head()\n",
    "manifest.shape"
   ]
  },
  {
   "cell_type": "code",
   "execution_count": 6,
   "metadata": {},
   "outputs": [
    {
     "data": {
      "text/plain": [
       "dx1      1117\n",
       "dx2       457\n",
       "rlps2     302\n",
       "ds1       228\n",
       "rlps1     198\n",
       "rlps3      36\n",
       "rlps4       7\n",
       "Name: Batch, dtype: int64"
      ]
     },
     "execution_count": 6,
     "metadata": {},
     "output_type": "execute_result"
    }
   ],
   "source": [
    "#table for the different Batchs \n",
    "manifest.Batch.value_counts()"
   ]
  },
  {
   "cell_type": "markdown",
   "metadata": {},
   "source": [
    "# 2. Subset for Required Samples"
   ]
  },
  {
   "cell_type": "code",
   "execution_count": 7,
   "metadata": {},
   "outputs": [],
   "source": [
    "manifest.fillna(value=\"\",inplace=True) #Stella is an NA"
   ]
  },
  {
   "cell_type": "code",
   "execution_count": 8,
   "metadata": {},
   "outputs": [
    {
     "data": {
      "text/plain": [
       "(228, 16)"
      ]
     },
     "execution_count": 8,
     "metadata": {},
     "output_type": "execute_result"
    }
   ],
   "source": [
    "ds_aml = manifest[manifest.Batch.str.contains(\"ds\")]\n",
    "\n",
    "# ds_aml.head()\n",
    "ds_aml.shape #228 rows"
   ]
  },
  {
   "cell_type": "code",
   "execution_count": 9,
   "metadata": {},
   "outputs": [
    {
     "data": {
      "text/plain": [
       "str"
      ]
     },
     "execution_count": 9,
     "metadata": {},
     "output_type": "execute_result"
    }
   ],
   "source": [
    "samples = \" \".join(ds_aml.Sample.tolist())\n",
    "type(samples)\n",
    "# samples"
   ]
  },
  {
   "cell_type": "markdown",
   "metadata": {},
   "source": [
    "# 3. Run the Sample Sheet Script"
   ]
  },
  {
   "cell_type": "code",
   "execution_count": 10,
   "metadata": {},
   "outputs": [
    {
     "name": "stdout",
     "output_type": "stream",
     "text": [
      "There are 2834 Fastq files.\n",
      "Finished writing 228records to file: test_sheet.txt\n"
     ]
    },
    {
     "data": {
      "text/plain": [
       "\u001b[0;31mType:\u001b[0m        module\n",
       "\u001b[0;31mString form:\u001b[0m <module 'create_sample_sheet' from '/Users/work/home_drive/scripts/STAR-fusion-NF/sample_sheets/create_sample_sheet.py'>\n",
       "\u001b[0;31mFile:\u001b[0m        ~/home_drive/scripts/STAR-fusion-NF/sample_sheets/create_sample_sheet.py\n",
       "\u001b[0;31mDocstring:\u001b[0m   <no docstring>\n"
      ]
     },
     "metadata": {},
     "output_type": "display_data"
    }
   ],
   "source": [
    "import create_sample_sheet\n",
    "bucket=\"fh-pi-meshinchi-s\"\n",
    "prefix=\"SR/picard_fq2/\"\n",
    "?create_sample_sheet.create_sample_sheet\n",
    "\n",
    "create_sample_sheet.create_sample_sheet(bucket_name=bucket, prefix_name=prefix, samples=samples, filename=\"test_sheet.txt\")\n"
   ]
  }
 ],
 "metadata": {
  "kernelspec": {
   "display_name": "Python 3",
   "language": "python",
   "name": "python3"
  },
  "language_info": {
   "codemirror_mode": {
    "name": "ipython",
    "version": 3
   },
   "file_extension": ".py",
   "mimetype": "text/x-python",
   "name": "python",
   "nbconvert_exporter": "python",
   "pygments_lexer": "ipython3",
   "version": "3.7.7"
  }
 },
 "nbformat": 4,
 "nbformat_minor": 4
}
